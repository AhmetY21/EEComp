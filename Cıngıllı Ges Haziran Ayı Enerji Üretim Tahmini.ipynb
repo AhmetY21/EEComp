{
 "cells": [
  {
   "cell_type": "code",
   "execution_count": 1,
   "metadata": {},
   "outputs": [],
   "source": [
    "import pandas as pd \n",
    "import numpy as np\n",
    "import seaborn as sns\n",
    "import glob\n",
    "import matplotlib.pyplot as plt\n",
    "import pprint\n",
    "pp = pprint.PrettyPrinter(width=41,depth=6, compact=True)\n",
    "\n",
    "from keras.models import Sequential\n",
    "from keras.layers import Dense\n",
    "from keras.layers import LSTM\n",
    "from keras.layers import Dropout\n",
    "\n",
    "\n",
    "from sklearn.ensemble import RandomForestRegressor"
   ]
  },
  {
   "cell_type": "markdown",
   "metadata": {},
   "source": [
    "Cıngıllı : Location 2 \n",
    "\n",
    "Alibey   : Location 2,Location 1\n",
    "\n",
    "Apa      : Location 2\n",
    "\n",
    "Renoe    : Location 1 , Location 2\n",
    "\n",
    "Omic     : Location 5 ,Location 4\n",
    "\n",
    "Afta     : Location 2\n",
    "\n",
    "Ra       : Location 1 \n",
    "\n",
    "Solen    : Location 5 "
   ]
  },
  {
   "cell_type": "code",
   "execution_count": 65,
   "metadata": {},
   "outputs": [
    {
     "data": {
      "text/html": [
       "<div>\n",
       "<style scoped>\n",
       "    .dataframe tbody tr th:only-of-type {\n",
       "        vertical-align: middle;\n",
       "    }\n",
       "\n",
       "    .dataframe tbody tr th {\n",
       "        vertical-align: top;\n",
       "    }\n",
       "\n",
       "    .dataframe thead th {\n",
       "        text-align: right;\n",
       "    }\n",
       "</style>\n",
       "<table border=\"1\" class=\"dataframe\">\n",
       "  <thead>\n",
       "    <tr style=\"text-align: right;\">\n",
       "      <th></th>\n",
       "      <th>Tarih</th>\n",
       "      <th>Saat</th>\n",
       "      <th>Güneş</th>\n",
       "      <th>GES</th>\n",
       "    </tr>\n",
       "    <tr>\n",
       "      <th>Tarihsaat</th>\n",
       "      <th></th>\n",
       "      <th></th>\n",
       "      <th></th>\n",
       "      <th></th>\n",
       "    </tr>\n",
       "  </thead>\n",
       "  <tbody>\n",
       "    <tr>\n",
       "      <th>2019-09-26 00:00:00</th>\n",
       "      <td>26.09.2019</td>\n",
       "      <td>00:00</td>\n",
       "      <td>0.000000</td>\n",
       "      <td>AFTA</td>\n",
       "    </tr>\n",
       "    <tr>\n",
       "      <th>2019-09-26 01:00:00</th>\n",
       "      <td>26.09.2019</td>\n",
       "      <td>01:00</td>\n",
       "      <td>0.000000</td>\n",
       "      <td>AFTA</td>\n",
       "    </tr>\n",
       "    <tr>\n",
       "      <th>2019-09-26 02:00:00</th>\n",
       "      <td>26.09.2019</td>\n",
       "      <td>02:00</td>\n",
       "      <td>0.000000</td>\n",
       "      <td>AFTA</td>\n",
       "    </tr>\n",
       "    <tr>\n",
       "      <th>2019-09-26 03:00:00</th>\n",
       "      <td>26.09.2019</td>\n",
       "      <td>03:00</td>\n",
       "      <td>0.000000</td>\n",
       "      <td>AFTA</td>\n",
       "    </tr>\n",
       "    <tr>\n",
       "      <th>2019-09-26 04:00:00</th>\n",
       "      <td>26.09.2019</td>\n",
       "      <td>04:00</td>\n",
       "      <td>0.000000</td>\n",
       "      <td>AFTA</td>\n",
       "    </tr>\n",
       "    <tr>\n",
       "      <th>...</th>\n",
       "      <td>...</td>\n",
       "      <td>...</td>\n",
       "      <td>...</td>\n",
       "      <td>...</td>\n",
       "    </tr>\n",
       "    <tr>\n",
       "      <th>2020-07-31 18:00:00</th>\n",
       "      <td>31.07.2020</td>\n",
       "      <td>18:00</td>\n",
       "      <td>0.104463</td>\n",
       "      <td>YAYSUN</td>\n",
       "    </tr>\n",
       "    <tr>\n",
       "      <th>2020-07-31 19:00:00</th>\n",
       "      <td>31.07.2020</td>\n",
       "      <td>19:00</td>\n",
       "      <td>0.008547</td>\n",
       "      <td>YAYSUN</td>\n",
       "    </tr>\n",
       "    <tr>\n",
       "      <th>2020-07-31 20:00:00</th>\n",
       "      <td>31.07.2020</td>\n",
       "      <td>20:00</td>\n",
       "      <td>0.000000</td>\n",
       "      <td>YAYSUN</td>\n",
       "    </tr>\n",
       "    <tr>\n",
       "      <th>2020-07-31 21:00:00</th>\n",
       "      <td>31.07.2020</td>\n",
       "      <td>21:00</td>\n",
       "      <td>0.000000</td>\n",
       "      <td>YAYSUN</td>\n",
       "    </tr>\n",
       "    <tr>\n",
       "      <th>2020-07-31 22:00:00</th>\n",
       "      <td>31.07.2020</td>\n",
       "      <td>22:00</td>\n",
       "      <td>0.000000</td>\n",
       "      <td>YAYSUN</td>\n",
       "    </tr>\n",
       "  </tbody>\n",
       "</table>\n",
       "<p>242264 rows × 4 columns</p>\n",
       "</div>"
      ],
      "text/plain": [
       "                          Tarih   Saat     Güneş     GES\n",
       "Tarihsaat                                               \n",
       "2019-09-26 00:00:00  26.09.2019  00:00  0.000000    AFTA\n",
       "2019-09-26 01:00:00  26.09.2019  01:00  0.000000    AFTA\n",
       "2019-09-26 02:00:00  26.09.2019  02:00  0.000000    AFTA\n",
       "2019-09-26 03:00:00  26.09.2019  03:00  0.000000    AFTA\n",
       "2019-09-26 04:00:00  26.09.2019  04:00  0.000000    AFTA\n",
       "...                         ...    ...       ...     ...\n",
       "2020-07-31 18:00:00  31.07.2020  18:00  0.104463  YAYSUN\n",
       "2020-07-31 19:00:00  31.07.2020  19:00  0.008547  YAYSUN\n",
       "2020-07-31 20:00:00  31.07.2020  20:00  0.000000  YAYSUN\n",
       "2020-07-31 21:00:00  31.07.2020  21:00  0.000000  YAYSUN\n",
       "2020-07-31 22:00:00  31.07.2020  22:00  0.000000  YAYSUN\n",
       "\n",
       "[242264 rows x 4 columns]"
      ]
     },
     "execution_count": 65,
     "metadata": {},
     "output_type": "execute_result"
    }
   ],
   "source": [
    "path = r\"D:\\GES\"\n",
    "all_files = glob.glob(path + \"/*.csv\")\n",
    "\n",
    "li = []\n",
    "\n",
    "for filename in all_files:\n",
    "    fl = pd.read_csv(filename, index_col=None, header=0,skipfooter=1,engine='python')\n",
    "    fl=fl[['Tarih','Saat','Güneş']]\n",
    "    fl['GES']=str(filename.split('-')[1])\n",
    "    li.append(fl)\n",
    "\n",
    "for i in range(18):\n",
    "   # li[i]['Güneş']=li[i]['Güneş'].apply(lambda x: x.replace(',','.'))#.apply(lambda x: float(x))\n",
    "    li[i]['Güneş']=li[i]['Güneş'].apply(lambda x: x.replace(',','.'))\n",
    "    li[i]['Güneş']=li[i]['Güneş'].apply(lambda x: float(x))\n",
    "    \n",
    "maksili=[]\n",
    "for i in range(18):\n",
    "    maks=float(li[i]['Güneş'].max())\n",
    "    maksili.append(maks)\n",
    "    li[i]['Güneş']=li[i]['Güneş'].apply(lambda x: x/maksili[i])\n",
    "    \n",
    "\n",
    "data = pd.concat(li, axis=0, ignore_index=True)\n",
    "\n",
    "data['Tarihsaat']=pd.to_datetime(data['Tarih']+' '+data['Saat'])\n",
    "data=data.set_index('Tarihsaat')\n",
    "data\n"
   ]
  },
  {
   "cell_type": "code",
   "execution_count": 66,
   "metadata": {},
   "outputs": [],
   "source": [
    "wr=pd.read_csv('C:/Users\\Ahmet YÜKSEL/Desktop/Algopoly Belgeler/trweather.csv')\n",
    "wr=wr.rename(columns={\"loc\": \"Yer\", \"forecast_epoch\": \"Time\", \"DSWRF_surface\": \"Rad\",\"TMP_2.m.above.ground\":\"Temp\"})\n",
    "wr['Temp']=wr['Temp'].map(lambda x:x-273.15) #convert to celcius\n",
    "locs=wr['Yer'].unique()\n",
    "\n",
    "wr1=wr[wr['Yer']==locs[0]]\n",
    "wr1=wr1.drop('Yer',axis=1)\n",
    "\n",
    "wr2=wr[wr['Yer']==locs[1]]\n",
    "wr2=wr2.drop('Yer',axis=1)\n",
    "\n",
    "wr3=wr[wr['Yer']==locs[2]]\n",
    "wr3=wr3.drop('Yer',axis=1)\n",
    "\n",
    "wr4=wr[wr['Yer']==locs[3]]\n",
    "wr4=wr4.drop('Yer',axis=1)\n",
    "\n",
    "wr5=wr[wr['Yer']==locs[4]]\n",
    "wr5=wr5.drop('Yer',axis=1)\n",
    "\n",
    "wr6=wr[wr['Yer']==locs[5]]\n",
    "wr6=wr6.drop('Yer',axis=1)\n",
    "\n",
    "wr7=wr[wr['Yer']==locs[6]]\n",
    "wr7=wr7.drop('Yer',axis=1)\n"
   ]
  },
  {
   "cell_type": "code",
   "execution_count": 67,
   "metadata": {},
   "outputs": [],
   "source": [
    "def son_iki(df):\n",
    "    iki=df.iloc[-30*24-2-7:25558-7]\n",
    "    bir=df.iloc[(-62*24)-3-6:-31*24-2-6]\n",
    "    \n",
    "    return bir,iki"
   ]
  },
  {
   "cell_type": "code",
   "execution_count": 68,
   "metadata": {},
   "outputs": [],
   "source": [
    "def wr_ayar(df):\n",
    "    df1,df2=son_iki(df)\n",
    "    A=df1['Rad'].values\n",
    "    B=df1['Temp'].values\n",
    "    C=df2['Rad'].values\n",
    "    D=df2['Temp'].values\n",
    "    dates=pd.date_range(start='2020-05-01',end='2020-06-01',freq='H')\n",
    "    dates2=pd.date_range(start='2020-06-01',end='2020-07-01',freq='H')\n",
    "    z=pd.DataFrame()\n",
    "    q=pd.DataFrame()\n",
    "    z['Rad']=A\n",
    "    z['Temp']=B\n",
    "    z=z.set_index(dates)\n",
    "    q['Rad']=C\n",
    "    q['Temp']=D\n",
    "    q=q.set_index(dates2)\n",
    "    df1=z.copy()\n",
    "    df2=q.copy()\n",
    "    ##fig, axs = plt.subplots(2, 2,figsize=(14,10))\n",
    "    \n",
    "    \n",
    "    ##axs[0, 0].plot(dates, df1['Rad'])\n",
    "    ##axs[0, 0].set_title('Training Radyal')\n",
    "    ##axs[0, 1].plot(dates, df1['Temp'], 'tab:orange')\n",
    "    ##axs[0, 1].set_title('Training Temp')\n",
    "    ##axs[1, 0].plot(df2.index, df2['Rad'], 'tab:green')\n",
    "    ##axs[1, 0].set_title('Test Radyal')\n",
    "    ##axs[1, 1].plot(df2.index, df2['Temp'], 'tab:red')\n",
    "    ##axs[1, 1].set_title('Test Temp')\n",
    "   \n",
    "    return df1,df2"
   ]
  },
  {
   "cell_type": "code",
   "execution_count": 69,
   "metadata": {},
   "outputs": [],
   "source": [
    "wr1_train,wr1_test=wr_ayar(wr1)\n",
    "\n",
    "wr2_train,wr2_test=wr_ayar(wr2)\n",
    "\n",
    "wr3_train,wr3_test=wr_ayar(wr3)\n",
    "\n",
    "wr4_train,wr4_test=wr_ayar(wr4)\n",
    "\n",
    "wr5_train,wr5_test=wr_ayar(wr5)\n",
    "\n",
    "wr6_train,wr6_test=wr_ayar(wr6)\n",
    "\n",
    "wr7_train,wr7_test=wr_ayar(wr7)"
   ]
  },
  {
   "cell_type": "code",
   "execution_count": 70,
   "metadata": {},
   "outputs": [],
   "source": [
    "def train_test(df):\n",
    "    train_start=df.index[(-91*24)-23]\n",
    "    train_stop=df.index[(-62*24)+25]\n",
    "    \n",
    "    test_start=df.index[(-60*24)-23]\n",
    "    test_stop=df.index[(-32*24)+25]\n",
    "    \n",
    "    return train_start,train_stop,test_start,test_stop"
   ]
  },
  {
   "cell_type": "code",
   "execution_count": 71,
   "metadata": {},
   "outputs": [],
   "source": [
    "train_starter='2020-05-01'\n",
    "train_stoper='2020-06-01'\n",
    "test_starter='2020-06-01'\n",
    "test_stoper='2020-07-01'"
   ]
  },
  {
   "cell_type": "code",
   "execution_count": 72,
   "metadata": {},
   "outputs": [
    {
     "data": {
      "text/plain": [
       "(745,)"
      ]
     },
     "execution_count": 72,
     "metadata": {},
     "output_type": "execute_result"
    }
   ],
   "source": [
    "dates=pd.date_range(start=train_starter,end=train_stoper,freq='H')\n",
    "dates.shape"
   ]
  },
  {
   "cell_type": "code",
   "execution_count": 79,
   "metadata": {},
   "outputs": [],
   "source": [
    "def ges_ayar(df,starter,stoper):\n",
    "    A=df['Güneş'].values\n",
    "    dates=pd.date_range(start=starter,end=stoper,freq='H')\n",
    "    z=pd.DataFrame()\n",
    "    z['Güneş']=A\n",
    "    z=z.set_index(dates)\n",
    "    df=z.copy()\n",
    "    #plt.figure(figsize=(15,4))\n",
    "   # df['Güneş'].plot()\n",
    "    return df"
   ]
  },
  {
   "cell_type": "code",
   "execution_count": 109,
   "metadata": {},
   "outputs": [],
   "source": [
    "data_cin=data[data['GES']=='CINGILLI']\n",
    "train_start,train_stop,test_start,test_stop=train_test(data_cin)\n",
    "\n",
    "train_data_cin=data_cin[train_start:train_stop]\n",
    "train_data_cin=ges_ayar(train_data_cin,train_starter,train_stoper)\n",
    "\n",
    "test_data_cin=data_cin[test_start:test_stop]\n",
    "test_data_cin=ges_ayar(test_data_cin,test_starter,test_stoper)\n"
   ]
  },
  {
   "cell_type": "code",
   "execution_count": 118,
   "metadata": {},
   "outputs": [],
   "source": [
    "def split(df):\n",
    "    #train=pd.concat([test,df]).drop_duplicates(keep=False)\n",
    "    y_train=df['Güneş'].values\n",
    "\n",
    "    x_train=df[['Rad', 'Temp', 'Saat', 'Gün']]\n",
    "\n",
    "    print(y_train.shape)\n",
    "\n",
    "    print(x_train.shape)\n",
    "    \n",
    "    return x_train,y_train"
   ]
  },
  {
   "cell_type": "code",
   "execution_count": 111,
   "metadata": {},
   "outputs": [],
   "source": [
    "test_data_cin=data_cin[test_start:test_stop]\n",
    "test_data_cin=ges_ayar(test_data_cin,test_starter,test_stoper)\n"
   ]
  },
  {
   "cell_type": "code",
   "execution_count": 112,
   "metadata": {},
   "outputs": [],
   "source": [
    "def f_ekle(df):\n",
    "    \n",
    "    hour=pd.DataFrame(df.index.hour)\n",
    "    day=pd.DataFrame(df.index.day)\n",
    "\n",
    "    df['Saat']=hour.values\n",
    "    df['Gün']=day.values\n",
    "    return df"
   ]
  },
  {
   "cell_type": "code",
   "execution_count": 113,
   "metadata": {},
   "outputs": [],
   "source": [
    "wr2_test=f_ekle(wr2_test)\n",
    "train_data_cin=f_ekle(train_data_cin)\n"
   ]
  },
  {
   "cell_type": "code",
   "execution_count": 114,
   "metadata": {
    "scrolled": true
   },
   "outputs": [],
   "source": [
    "train_data_cin=pd.merge(train_data_cin,wr2_train,how='outer',left_index=True, right_index=True)"
   ]
  },
  {
   "cell_type": "code",
   "execution_count": 115,
   "metadata": {},
   "outputs": [
    {
     "name": "stdout",
     "output_type": "stream",
     "text": [
      "(745,)\n",
      "(745, 4)\n"
     ]
    }
   ],
   "source": [
    "x_train,y_train=split(train_data_cin)"
   ]
  },
  {
   "cell_type": "code",
   "execution_count": 116,
   "metadata": {},
   "outputs": [],
   "source": [
    "test_data_cin=pd.merge(test_data_cin,wr2_test,how='outer',left_index=True, right_index=True)"
   ]
  },
  {
   "cell_type": "code",
   "execution_count": 119,
   "metadata": {},
   "outputs": [
    {
     "name": "stdout",
     "output_type": "stream",
     "text": [
      "(721,)\n",
      "(721, 4)\n"
     ]
    }
   ],
   "source": [
    "x_test,y_test=split(test_data_cin)"
   ]
  },
  {
   "cell_type": "code",
   "execution_count": null,
   "metadata": {},
   "outputs": [],
   "source": []
  },
  {
   "cell_type": "code",
   "execution_count": null,
   "metadata": {},
   "outputs": [],
   "source": []
  },
  {
   "cell_type": "markdown",
   "metadata": {},
   "source": [
    "# Modeller"
   ]
  },
  {
   "cell_type": "markdown",
   "metadata": {},
   "source": [
    "### Random Forest"
   ]
  },
  {
   "cell_type": "code",
   "execution_count": 121,
   "metadata": {},
   "outputs": [
    {
     "name": "stdout",
     "output_type": "stream",
     "text": [
      "Fitting 3 folds for each of 100 candidates, totalling 300 fits\n"
     ]
    },
    {
     "name": "stderr",
     "output_type": "stream",
     "text": [
      "[Parallel(n_jobs=-1)]: Using backend LokyBackend with 8 concurrent workers.\n",
      "[Parallel(n_jobs=-1)]: Done  25 tasks      | elapsed:   14.2s\n",
      "[Parallel(n_jobs=-1)]: Done 146 tasks      | elapsed:   57.4s\n",
      "[Parallel(n_jobs=-1)]: Done 300 out of 300 | elapsed:  2.0min finished\n"
     ]
    },
    {
     "data": {
      "text/plain": [
       "RandomizedSearchCV(cv=3, estimator=RandomForestRegressor(), n_iter=100,\n",
       "                   n_jobs=-1,\n",
       "                   param_distributions={'bootstrap': [True, False],\n",
       "                                        'max_depth': [10, 20, 30, 40, 50, 60,\n",
       "                                                      70, 80, 90, 100, 110,\n",
       "                                                      None],\n",
       "                                        'max_features': ['auto', 'sqrt'],\n",
       "                                        'min_samples_leaf': [1, 2, 4],\n",
       "                                        'min_samples_split': [2, 5, 10],\n",
       "                                        'n_estimators': [200, 400, 600, 800,\n",
       "                                                         1000, 1200, 1400, 1600,\n",
       "                                                         1800, 2000]},\n",
       "                   random_state=42, verbose=2)"
      ]
     },
     "execution_count": 121,
     "metadata": {},
     "output_type": "execute_result"
    }
   ],
   "source": [
    "from sklearn.model_selection import RandomizedSearchCV\n",
    "n_estimators = [int(x) for x in np.linspace(start = 200, stop = 2000, num = 10)]\n",
    "max_features = ['auto', 'sqrt']\n",
    "max_depth = [int(x) for x in np.linspace(10, 110, num = 11)]\n",
    "max_depth.append(None)\n",
    "min_samples_split = [2, 5, 10]\n",
    "min_samples_leaf = [1, 2, 4]\n",
    "bootstrap = [True, False]\n",
    "random_grid = {'n_estimators': n_estimators,\n",
    "               'max_features': max_features,\n",
    "               'max_depth': max_depth,\n",
    "               'min_samples_split': min_samples_split,\n",
    "               'min_samples_leaf': min_samples_leaf,\n",
    "               'bootstrap': bootstrap}\n",
    "rf = RandomForestRegressor()\n",
    "rf_random = RandomizedSearchCV(estimator = rf, param_distributions = random_grid, n_iter = 100, cv = 3, verbose=2, random_state=42, n_jobs = -1)\n",
    "rf_random.fit(x_train, y_train)"
   ]
  },
  {
   "cell_type": "code",
   "execution_count": 124,
   "metadata": {},
   "outputs": [],
   "source": [
    "preds_rf=rf_random.predict(wr2_test)\n",
    "\n",
    "predictions=wr2_test.copy()\n",
    "predictions['Güneş']=preds_rf\n"
   ]
  },
  {
   "cell_type": "code",
   "execution_count": 128,
   "metadata": {},
   "outputs": [],
   "source": [
    "real=test_data_cin['Güneş'].values"
   ]
  },
  {
   "cell_type": "markdown",
   "metadata": {},
   "source": [
    "### XgBoost"
   ]
  },
  {
   "cell_type": "code",
   "execution_count": 130,
   "metadata": {},
   "outputs": [
    {
     "data": {
      "text/plain": [
       "XGBRegressor(base_score=0.5, booster='gbtree', colsample_bylevel=1,\n",
       "             colsample_bynode=1, colsample_bytree=1, gamma=0, gpu_id=-1,\n",
       "             importance_type='gain', interaction_constraints='',\n",
       "             learning_rate=0.01, max_delta_step=0, max_depth=3,\n",
       "             min_child_weight=20, missing=nan, monotone_constraints='()',\n",
       "             n_estimators=500, n_jobs=0, num_parallel_tree=1, random_state=0,\n",
       "             reg_alpha=0.01, reg_lambda=0.001, scale_pos_weight=1, subsample=1,\n",
       "             tree_method='exact', validate_parameters=1, verbosity=None)"
      ]
     },
     "execution_count": 130,
     "metadata": {},
     "output_type": "execute_result"
    }
   ],
   "source": [
    "import xgboost as xgb\n",
    "from xgboost import XGBRegressor\n",
    "\n",
    "xgb = XGBRegressor(booster='gbtree', learning_rate=0.3, n_estimators=3460,\n",
    "                     max_depth=6, min_child_weight=1, subsample=1,\n",
    "                     gamma=0, reg_alpha = 0.001, colsample_bytree=0.7,\n",
    "                     objective='reg:squarederror', reg_lambda = 0.001,\n",
    "                     scale_pos_weight=1, seed=2020)\n",
    "\n",
    "from sklearn.model_selection import RandomizedSearchCV\n",
    "\n",
    "param_lst = {\n",
    "    'learning_rate' : [0.01, 0.1, 0.15, 0.3, 0.5],\n",
    "    'n_estimators' : [100, 500, 1000, 2000, 3000],\n",
    "    'max_depth' : [3, 6, 9],\n",
    "    'min_child_weight' : [1, 5, 10, 20],\n",
    "    'reg_alpha' : [0.001, 0.01, 0.1],\n",
    "    'reg_lambda' : [0.001, 0.01, 0.1]\n",
    "}\n",
    "\n",
    "xgb_reg = RandomizedSearchCV(estimator = xgb, param_distributions = param_lst,\n",
    "                              n_iter = 100, scoring = 'neg_root_mean_squared_error',\n",
    "                              cv = 5)\n",
    "       \n",
    "xgb_search = xgb_reg.fit(x_train, y_train)\n",
    "\n",
    "# XGB with tune hyperparameters\n",
    "best_param = xgb_search.best_params_\n",
    "xgb = XGBRegressor(**best_param)\n",
    "xgb.fit(x_train, y_train)"
   ]
  },
  {
   "cell_type": "code",
   "execution_count": 133,
   "metadata": {},
   "outputs": [],
   "source": [
    "preds_xgb=xgb.predict(wr2_test)\n",
    "\n",
    "predictions_xgb=wr2_test.copy()\n",
    "predictions_xgb['Güneş']=preds_xgb\n"
   ]
  },
  {
   "cell_type": "code",
   "execution_count": 136,
   "metadata": {},
   "outputs": [],
   "source": [
    "predictions_xgb['Güneş']=predictions_xgb['Güneş'].apply(lambda x: 0 if x<0 else x)"
   ]
  },
  {
   "cell_type": "code",
   "execution_count": 138,
   "metadata": {},
   "outputs": [],
   "source": [
    "preds_xgb=predictions_xgb['Güneş'].values"
   ]
  },
  {
   "cell_type": "markdown",
   "metadata": {},
   "source": [
    "### Mean Squared Error"
   ]
  },
  {
   "cell_type": "markdown",
   "metadata": {},
   "source": [
    "preds_rf : random forest tahmin sonucu\n",
    "\n",
    "preds_xgb : Xgboost tahmin sonucu"
   ]
  },
  {
   "cell_type": "code",
   "execution_count": 129,
   "metadata": {},
   "outputs": [
    {
     "data": {
      "text/plain": [
       "0.01699742942481815"
      ]
     },
     "execution_count": 129,
     "metadata": {},
     "output_type": "execute_result"
    }
   ],
   "source": [
    "from sklearn.metrics import mean_squared_error\n",
    "mean_squared_error(real, preds_rf)"
   ]
  },
  {
   "cell_type": "code",
   "execution_count": 139,
   "metadata": {},
   "outputs": [
    {
     "data": {
      "text/plain": [
       "0.017270029598464937"
      ]
     },
     "execution_count": 139,
     "metadata": {},
     "output_type": "execute_result"
    }
   ],
   "source": [
    "mean_squared_error(real,preds_xgb)"
   ]
  },
  {
   "cell_type": "code",
   "execution_count": null,
   "metadata": {},
   "outputs": [],
   "source": []
  }
 ],
 "metadata": {
  "kernelspec": {
   "display_name": "Python 3",
   "language": "python",
   "name": "python3"
  },
  "language_info": {
   "codemirror_mode": {
    "name": "ipython",
    "version": 3
   },
   "file_extension": ".py",
   "mimetype": "text/x-python",
   "name": "python",
   "nbconvert_exporter": "python",
   "pygments_lexer": "ipython3",
   "version": "3.7.6"
  }
 },
 "nbformat": 4,
 "nbformat_minor": 4
}
